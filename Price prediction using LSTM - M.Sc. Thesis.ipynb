{
 "cells": [
  {
   "cell_type": "code",
   "execution_count": 1,
   "id": "5fc1d55f",
   "metadata": {},
   "outputs": [],
   "source": [
    "import pandas as pd\n",
    "import yfinance as yf\n",
    "import datetime\n",
    "from datetime import date, timedelta\n",
    "from sklearn.preprocessing import MinMaxScaler\n",
    "import matplotlib.pyplot as plt\n",
    "today = date.today()"
   ]
  },
  {
   "cell_type": "code",
   "execution_count": 2,
   "id": "d7c0bf30",
   "metadata": {},
   "outputs": [
    {
     "data": {
      "text/html": [
       "<div>\n",
       "<style scoped>\n",
       "    .dataframe tbody tr th:only-of-type {\n",
       "        vertical-align: middle;\n",
       "    }\n",
       "\n",
       "    .dataframe tbody tr th {\n",
       "        vertical-align: top;\n",
       "    }\n",
       "\n",
       "    .dataframe thead th {\n",
       "        text-align: right;\n",
       "    }\n",
       "</style>\n",
       "<table border=\"1\" class=\"dataframe\">\n",
       "  <thead>\n",
       "    <tr style=\"text-align: right;\">\n",
       "      <th></th>\n",
       "      <th>Open</th>\n",
       "      <th>High</th>\n",
       "      <th>Low</th>\n",
       "      <th>Close</th>\n",
       "      <th>Volume</th>\n",
       "      <th>Dividends</th>\n",
       "      <th>Stock Splits</th>\n",
       "    </tr>\n",
       "    <tr>\n",
       "      <th>Date</th>\n",
       "      <th></th>\n",
       "      <th></th>\n",
       "      <th></th>\n",
       "      <th></th>\n",
       "      <th></th>\n",
       "      <th></th>\n",
       "      <th></th>\n",
       "    </tr>\n",
       "  </thead>\n",
       "  <tbody>\n",
       "    <tr>\n",
       "      <th>2003-04-14 00:00:00-04:00</th>\n",
       "      <td>1361.349976</td>\n",
       "      <td>1386.500000</td>\n",
       "      <td>1359.319946</td>\n",
       "      <td>1384.949951</td>\n",
       "      <td>1173640000</td>\n",
       "      <td>0</td>\n",
       "      <td>0</td>\n",
       "    </tr>\n",
       "    <tr>\n",
       "      <th>2003-04-15 00:00:00-04:00</th>\n",
       "      <td>1381.670044</td>\n",
       "      <td>1394.030029</td>\n",
       "      <td>1376.030029</td>\n",
       "      <td>1391.010010</td>\n",
       "      <td>1295900000</td>\n",
       "      <td>0</td>\n",
       "      <td>0</td>\n",
       "    </tr>\n",
       "    <tr>\n",
       "      <th>2003-04-16 00:00:00-04:00</th>\n",
       "      <td>1411.699951</td>\n",
       "      <td>1418.520020</td>\n",
       "      <td>1391.989990</td>\n",
       "      <td>1394.719971</td>\n",
       "      <td>1551600000</td>\n",
       "      <td>0</td>\n",
       "      <td>0</td>\n",
       "    </tr>\n",
       "    <tr>\n",
       "      <th>2003-04-17 00:00:00-04:00</th>\n",
       "      <td>1395.619995</td>\n",
       "      <td>1425.500000</td>\n",
       "      <td>1393.130005</td>\n",
       "      <td>1425.500000</td>\n",
       "      <td>1644000000</td>\n",
       "      <td>0</td>\n",
       "      <td>0</td>\n",
       "    </tr>\n",
       "    <tr>\n",
       "      <th>2003-04-21 00:00:00-04:00</th>\n",
       "      <td>1425.959961</td>\n",
       "      <td>1432.079956</td>\n",
       "      <td>1413.709961</td>\n",
       "      <td>1424.369995</td>\n",
       "      <td>1271170000</td>\n",
       "      <td>0</td>\n",
       "      <td>0</td>\n",
       "    </tr>\n",
       "  </tbody>\n",
       "</table>\n",
       "</div>"
      ],
      "text/plain": [
       "                                  Open         High          Low        Close  \\\n",
       "Date                                                                            \n",
       "2003-04-14 00:00:00-04:00  1361.349976  1386.500000  1359.319946  1384.949951   \n",
       "2003-04-15 00:00:00-04:00  1381.670044  1394.030029  1376.030029  1391.010010   \n",
       "2003-04-16 00:00:00-04:00  1411.699951  1418.520020  1391.989990  1394.719971   \n",
       "2003-04-17 00:00:00-04:00  1395.619995  1425.500000  1393.130005  1425.500000   \n",
       "2003-04-21 00:00:00-04:00  1425.959961  1432.079956  1413.709961  1424.369995   \n",
       "\n",
       "                               Volume  Dividends  Stock Splits  \n",
       "Date                                                            \n",
       "2003-04-14 00:00:00-04:00  1173640000          0             0  \n",
       "2003-04-15 00:00:00-04:00  1295900000          0             0  \n",
       "2003-04-16 00:00:00-04:00  1551600000          0             0  \n",
       "2003-04-17 00:00:00-04:00  1644000000          0             0  \n",
       "2003-04-21 00:00:00-04:00  1271170000          0             0  "
      ]
     },
     "execution_count": 2,
     "metadata": {},
     "output_type": "execute_result"
    }
   ],
   "source": [
    "# Get the NASDAQ data\n",
    "nasdaq = yf.Ticker(\"^IXIC\")\n",
    "\n",
    "# Get the historical market data\n",
    "historical_data = nasdaq.history(period=\"5000d\")\n",
    "\n",
    "# Print the first five rows of the data\n",
    "historical_data.head()"
   ]
  },
  {
   "cell_type": "code",
   "execution_count": 3,
   "id": "ee1d6c85",
   "metadata": {},
   "outputs": [
    {
     "data": {
      "text/plain": [
       "(5000, 7)"
      ]
     },
     "execution_count": 3,
     "metadata": {},
     "output_type": "execute_result"
    }
   ],
   "source": [
    "# geting the number of rows and column in the data set\n",
    "historical_data.shape"
   ]
  },
  {
   "cell_type": "code",
   "execution_count": 4,
   "id": "20302e61",
   "metadata": {},
   "outputs": [
    {
     "data": {
      "text/plain": [
       "Open            0\n",
       "High            0\n",
       "Low             0\n",
       "Close           0\n",
       "Volume          0\n",
       "Dividends       0\n",
       "Stock Splits    0\n",
       "dtype: int64"
      ]
     },
     "execution_count": 4,
     "metadata": {},
     "output_type": "execute_result"
    }
   ],
   "source": [
    "# checking for missing values\n",
    "historical_data.isnull().sum()"
   ]
  },
  {
   "cell_type": "markdown",
   "id": "973c5d87",
   "metadata": {},
   "source": [
    "### To reorders the columns of the DataFrame and reset the index to a sequential order, which may be useful for subsequent data analysis tasks. Aswell, this will drop the irelevant features like Dividends and stock splits"
   ]
  },
  {
   "cell_type": "code",
   "execution_count": 5,
   "id": "5d0cd666",
   "metadata": {},
   "outputs": [
    {
     "data": {
      "text/html": [
       "<div>\n",
       "<style scoped>\n",
       "    .dataframe tbody tr th:only-of-type {\n",
       "        vertical-align: middle;\n",
       "    }\n",
       "\n",
       "    .dataframe tbody tr th {\n",
       "        vertical-align: top;\n",
       "    }\n",
       "\n",
       "    .dataframe thead th {\n",
       "        text-align: right;\n",
       "    }\n",
       "</style>\n",
       "<table border=\"1\" class=\"dataframe\">\n",
       "  <thead>\n",
       "    <tr style=\"text-align: right;\">\n",
       "      <th></th>\n",
       "      <th>Date</th>\n",
       "      <th>Open</th>\n",
       "      <th>High</th>\n",
       "      <th>Low</th>\n",
       "      <th>Close</th>\n",
       "      <th>Volume</th>\n",
       "    </tr>\n",
       "    <tr>\n",
       "      <th>Date</th>\n",
       "      <th></th>\n",
       "      <th></th>\n",
       "      <th></th>\n",
       "      <th></th>\n",
       "      <th></th>\n",
       "      <th></th>\n",
       "    </tr>\n",
       "  </thead>\n",
       "  <tbody>\n",
       "    <tr>\n",
       "      <th>2003-04-14 00:00:00-04:00</th>\n",
       "      <td>2003-04-14 00:00:00-04:00</td>\n",
       "      <td>1361.349976</td>\n",
       "      <td>1386.500000</td>\n",
       "      <td>1359.319946</td>\n",
       "      <td>1384.949951</td>\n",
       "      <td>1173640000</td>\n",
       "    </tr>\n",
       "    <tr>\n",
       "      <th>2003-04-15 00:00:00-04:00</th>\n",
       "      <td>2003-04-15 00:00:00-04:00</td>\n",
       "      <td>1381.670044</td>\n",
       "      <td>1394.030029</td>\n",
       "      <td>1376.030029</td>\n",
       "      <td>1391.010010</td>\n",
       "      <td>1295900000</td>\n",
       "    </tr>\n",
       "    <tr>\n",
       "      <th>2003-04-16 00:00:00-04:00</th>\n",
       "      <td>2003-04-16 00:00:00-04:00</td>\n",
       "      <td>1411.699951</td>\n",
       "      <td>1418.520020</td>\n",
       "      <td>1391.989990</td>\n",
       "      <td>1394.719971</td>\n",
       "      <td>1551600000</td>\n",
       "    </tr>\n",
       "    <tr>\n",
       "      <th>2003-04-17 00:00:00-04:00</th>\n",
       "      <td>2003-04-17 00:00:00-04:00</td>\n",
       "      <td>1395.619995</td>\n",
       "      <td>1425.500000</td>\n",
       "      <td>1393.130005</td>\n",
       "      <td>1425.500000</td>\n",
       "      <td>1644000000</td>\n",
       "    </tr>\n",
       "    <tr>\n",
       "      <th>2003-04-21 00:00:00-04:00</th>\n",
       "      <td>2003-04-21 00:00:00-04:00</td>\n",
       "      <td>1425.959961</td>\n",
       "      <td>1432.079956</td>\n",
       "      <td>1413.709961</td>\n",
       "      <td>1424.369995</td>\n",
       "      <td>1271170000</td>\n",
       "    </tr>\n",
       "  </tbody>\n",
       "</table>\n",
       "</div>"
      ],
      "text/plain": [
       "                                               Date         Open         High  \\\n",
       "Date                                                                            \n",
       "2003-04-14 00:00:00-04:00 2003-04-14 00:00:00-04:00  1361.349976  1386.500000   \n",
       "2003-04-15 00:00:00-04:00 2003-04-15 00:00:00-04:00  1381.670044  1394.030029   \n",
       "2003-04-16 00:00:00-04:00 2003-04-16 00:00:00-04:00  1411.699951  1418.520020   \n",
       "2003-04-17 00:00:00-04:00 2003-04-17 00:00:00-04:00  1395.619995  1425.500000   \n",
       "2003-04-21 00:00:00-04:00 2003-04-21 00:00:00-04:00  1425.959961  1432.079956   \n",
       "\n",
       "                                   Low        Close      Volume  \n",
       "Date                                                             \n",
       "2003-04-14 00:00:00-04:00  1359.319946  1384.949951  1173640000  \n",
       "2003-04-15 00:00:00-04:00  1376.030029  1391.010010  1295900000  \n",
       "2003-04-16 00:00:00-04:00  1391.989990  1394.719971  1551600000  \n",
       "2003-04-17 00:00:00-04:00  1393.130005  1425.500000  1644000000  \n",
       "2003-04-21 00:00:00-04:00  1413.709961  1424.369995  1271170000  "
      ]
     },
     "execution_count": 5,
     "metadata": {},
     "output_type": "execute_result"
    }
   ],
   "source": [
    "historical_data[\"Date\"] = historical_data.index\n",
    "historical_data = historical_data[[\"Date\", \"Open\", \"High\", \"Low\", \"Close\", \"Volume\"]]\n",
    "historical_data.reset_index(drop=True, inplace=False)\n",
    "\n",
    "# Show the dataframe\n",
    "historical_data.head()"
   ]
  },
  {
   "cell_type": "code",
   "execution_count": 6,
   "id": "4099e468",
   "metadata": {},
   "outputs": [
    {
     "data": {
      "image/png": "[encoded data removed]",
      "text/plain": [
       "<Figure size 1152x432 with 1 Axes>"
      ]
     },
     "metadata": {
      "needs_background": "light"
     },
     "output_type": "display_data"
    }
   ],
   "source": [
    "# visualise the closing price overtime\n",
    "plt.figure(figsize=(16,6))\n",
    "plt.title('Close price ovetime', fontsize=15)\n",
    "plt.plot(historical_data['Close'])\n",
    "plt.xlabel('Date', fontsize=13)\n",
    "plt.ylabel('NASDAQ close price', fontsize=13)\n",
    "plt.show()"
   ]
  },
  {
   "cell_type": "code",
   "execution_count": 7,
   "id": "e159c0a8",
   "metadata": {},
   "outputs": [
    {
     "data": {
      "text/plain": [
       "Close     1.000000\n",
       "Low       0.999911\n",
       "High      0.999897\n",
       "Open      0.999810\n",
       "Volume    0.770441\n",
       "Name: Close, dtype: float64"
      ]
     },
     "execution_count": 7,
     "metadata": {},
     "output_type": "execute_result"
    }
   ],
   "source": [
    "# checking for the correlation\n",
    "correlation = historical_data.corr()\n",
    "correlation[\"Close\"].sort_values(ascending=False)"
   ]
  },
  {
   "cell_type": "code",
   "execution_count": 8,
   "id": "f6fcaf7e",
   "metadata": {},
   "outputs": [],
   "source": [
    "# Training the model\n",
    "x = historical_data[[\"Open\", \"High\", \"Low\", \"Volume\"]]\n",
    "y = historical_data[\"Close\"]\n",
    "x = x.to_numpy()\n",
    "y = y.to_numpy()\n",
    "y = y.reshape(-1, 1)\n",
    "\n",
    "from sklearn.model_selection import train_test_split\n",
    "xtrain, xtest, ytrain, ytest = train_test_split(x, y, test_size=0.2, random_state=42)"
   ]
  },
  {
   "cell_type": "code",
   "execution_count": 9,
   "id": "5ef874c8",
   "metadata": {},
   "outputs": [
    {
     "data": {
      "text/plain": [
       "array([[1.36134998e+03, 1.38650000e+03, 1.35931995e+03, 1.17364000e+09],\n",
       "       [1.38167004e+03, 1.39403003e+03, 1.37603003e+03, 1.29590000e+09],\n",
       "       [1.41169995e+03, 1.41852002e+03, 1.39198999e+03, 1.55160000e+09],\n",
       "       ...,\n",
       "       [1.17775000e+04, 1.18032197e+04, 1.16732100e+04, 4.92523000e+09],\n",
       "       [1.16403701e+04, 1.16841396e+04, 1.14911797e+04, 5.00254000e+09],\n",
       "       [1.16404004e+04, 1.15705000e+04, 1.14451738e+04, 1.62538100e+09]])"
      ]
     },
     "execution_count": 9,
     "metadata": {},
     "output_type": "execute_result"
    }
   ],
   "source": [
    "x"
   ]
  },
  {
   "cell_type": "code",
   "execution_count": 10,
   "id": "c9aaa876",
   "metadata": {},
   "outputs": [
    {
     "data": {
      "text/plain": [
       "array([[ 1384.94995117],\n",
       "       [ 1391.01000977],\n",
       "       [ 1394.7199707 ],\n",
       "       ...,\n",
       "       [11787.26953125],\n",
       "       [11492.29980469],\n",
       "       [11502.84570312]])"
      ]
     },
     "execution_count": 10,
     "metadata": {},
     "output_type": "execute_result"
    }
   ],
   "source": [
    "y"
   ]
  },
  {
   "cell_type": "code",
   "execution_count": 11,
   "id": "772b2f37",
   "metadata": {},
   "outputs": [
    {
     "ename": "ModuleNotFoundError",
     "evalue": "No module named 'keras'",
     "output_type": "error",
     "traceback": [
      "\u001b[1;31m---------------------------------------------------------------------------\u001b[0m",
      "\u001b[1;31mModuleNotFoundError\u001b[0m                       Traceback (most recent call last)",
      "\u001b[1;32m<ipython-input-11-251d2a0bb7b9>\u001b[0m in \u001b[0;36m<module>\u001b[1;34m\u001b[0m\n\u001b[1;32m----> 1\u001b[1;33m \u001b[1;32mfrom\u001b[0m \u001b[0mkeras\u001b[0m\u001b[1;33m.\u001b[0m\u001b[0mmodels\u001b[0m \u001b[1;32mimport\u001b[0m \u001b[0mSequential\u001b[0m\u001b[1;33m\u001b[0m\u001b[1;33m\u001b[0m\u001b[0m\n\u001b[0m\u001b[0;32m      2\u001b[0m \u001b[1;32mfrom\u001b[0m \u001b[0mkeras\u001b[0m\u001b[1;33m.\u001b[0m\u001b[0mlayers\u001b[0m \u001b[1;32mimport\u001b[0m \u001b[0mDense\u001b[0m\u001b[1;33m,\u001b[0m \u001b[0mLSTM\u001b[0m\u001b[1;33m\u001b[0m\u001b[1;33m\u001b[0m\u001b[0m\n",
      "\u001b[1;31mModuleNotFoundError\u001b[0m: No module named 'keras'"
     ]
    }
   ],
   "source": [
    "from keras.models import Sequential\n",
    "from keras.layers import Dense, LSTM"
   ]
  },
  {
   "cell_type": "code",
   "execution_count": null,
   "id": "93e29918",
   "metadata": {},
   "outputs": [],
   "source": []
  }
 ],
 "metadata": {
  "kernelspec": {
   "display_name": "Python 3",
   "language": "python",
   "name": "python3"
  },
  "language_info": {
   "codemirror_mode": {
    "name": "ipython",
    "version": 3
   },
   "file_extension": ".py",
   "mimetype": "text/x-python",
   "name": "python",
   "nbconvert_exporter": "python",
   "pygments_lexer": "ipython3",
   "version": "3.8.8"
  }
 },
 "nbformat": 4,
 "nbformat_minor": 5
}
